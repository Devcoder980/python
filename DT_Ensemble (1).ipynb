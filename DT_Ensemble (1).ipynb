{
 "cells": [
  {
   "cell_type": "code",
   "execution_count": 1,
   "metadata": {},
   "outputs": [],
   "source": [
    "%matplotlib inline"
   ]
  },
  {
   "cell_type": "code",
   "execution_count": 2,
   "metadata": {},
   "outputs": [],
   "source": [
    "import numpy as np"
   ]
  },
  {
   "cell_type": "code",
   "execution_count": 3,
   "metadata": {},
   "outputs": [],
   "source": [
    "import pandas as pd"
   ]
  },
  {
   "cell_type": "code",
   "execution_count": 4,
   "metadata": {},
   "outputs": [],
   "source": [
    "from sklearn.tree import DecisionTreeClassifier"
   ]
  },
  {
   "cell_type": "markdown",
   "metadata": {},
   "source": [
    "from sklearn.feature_extraction.text import CountVectorizer  #DT does not take strings as input for the model fit step...."
   ]
  },
  {
   "cell_type": "code",
   "execution_count": 5,
   "metadata": {},
   "outputs": [],
   "source": [
    "credit_df = pd.read_csv(\"credit.csv\")"
   ]
  },
  {
   "cell_type": "code",
   "execution_count": 6,
   "metadata": {},
   "outputs": [
    {
     "name": "stdout",
     "output_type": "stream",
     "text": [
      "<class 'pandas.core.frame.DataFrame'>\n",
      "RangeIndex: 1000 entries, 0 to 999\n",
      "Data columns (total 17 columns):\n",
      "checking_balance        1000 non-null object\n",
      "months_loan_duration    1000 non-null int64\n",
      "credit_history          1000 non-null object\n",
      "purpose                 1000 non-null object\n",
      "amount                  1000 non-null int64\n",
      "savings_balance         1000 non-null object\n",
      "employment_duration     1000 non-null object\n",
      "percent_of_income       1000 non-null int64\n",
      "years_at_residence      1000 non-null int64\n",
      "age                     1000 non-null int64\n",
      "other_credit            1000 non-null object\n",
      "housing                 1000 non-null object\n",
      "existing_loans_count    1000 non-null int64\n",
      "job                     1000 non-null object\n",
      "dependents              1000 non-null int64\n",
      "phone                   1000 non-null object\n",
      "default                 1000 non-null object\n",
      "dtypes: int64(7), object(10)\n",
      "memory usage: 132.9+ KB\n"
     ]
    }
   ],
   "source": [
    "credit_df.info()  # many columns are of type object i.e. strings. These need to be converted to ordinal type"
   ]
  },
  {
   "cell_type": "code",
   "execution_count": 7,
   "metadata": {},
   "outputs": [],
   "source": [
    "# Decision tree in Python can take only numerical / categorical colums. It cannot take string / obeject types. \n",
    "# The following code loops through each column and checks if the column type is object then converts those columns\n",
    "# into categorical with each distinct value becoming a category or code.\n",
    "\n",
    "for feature in credit_df.columns: # Loop through all columns in the dataframe\n",
    "    if credit_df[feature].dtype == 'object': # Only apply for columns with categorical strings\n",
    "        credit_df[feature] = pd.Categorical(credit_df[feature]).codes # Replace strings with an integer"
   ]
  },
  {
   "cell_type": "code",
   "execution_count": 8,
   "metadata": {},
   "outputs": [
    {
     "name": "stdout",
     "output_type": "stream",
     "text": [
      "<class 'pandas.core.frame.DataFrame'>\n",
      "RangeIndex: 1000 entries, 0 to 999\n",
      "Data columns (total 17 columns):\n",
      "checking_balance        1000 non-null int8\n",
      "months_loan_duration    1000 non-null int64\n",
      "credit_history          1000 non-null int8\n",
      "purpose                 1000 non-null int8\n",
      "amount                  1000 non-null int64\n",
      "savings_balance         1000 non-null int8\n",
      "employment_duration     1000 non-null int8\n",
      "percent_of_income       1000 non-null int64\n",
      "years_at_residence      1000 non-null int64\n",
      "age                     1000 non-null int64\n",
      "other_credit            1000 non-null int8\n",
      "housing                 1000 non-null int8\n",
      "existing_loans_count    1000 non-null int64\n",
      "job                     1000 non-null int8\n",
      "dependents              1000 non-null int64\n",
      "phone                   1000 non-null int8\n",
      "default                 1000 non-null int8\n",
      "dtypes: int64(7), int8(10)\n",
      "memory usage: 64.5 KB\n"
     ]
    }
   ],
   "source": [
    "credit_df.info()"
   ]
  },
  {
   "cell_type": "markdown",
   "metadata": {},
   "source": [
    "col_labels = [ 'checking_balance', 'months_loan_duration' ,'credit_history' , 'purpose, amount', 'savings_balance' , 'employment_duration'\n",
    ", 'percent_of_income', 'years_at_residence', 'age', 'other_credit', 'housing', 'existing_loans_count', 'job', 'dependents', 'phone', 'default']"
   ]
  },
  {
   "cell_type": "markdown",
   "metadata": {},
   "source": [
    "train_char_label = ['No', 'Yes']"
   ]
  },
  {
   "cell_type": "code",
   "execution_count": 9,
   "metadata": {},
   "outputs": [],
   "source": [
    "# splitting data into training and test set for independent attributes\n",
    "\n",
    "train_set = credit_df.head(500) # Up to the last initial training set row\n",
    "test_set = credit_df.tail(500) # Past the last initial training set row\n",
    "\n",
    "# capture the target column (\"default\") into separate vectors for training set and test set\n",
    "train_labels = train_set.pop(\"default\")\n",
    "test_labels = test_set.pop(\"default\")\n"
   ]
  },
  {
   "cell_type": "code",
   "execution_count": 47,
   "metadata": {},
   "outputs": [],
   "source": [
    "# invoking the decision tree classifier function. Using 'entropy' method of finding the split columns. Other option \n",
    "# could be gini index.  Restricting the depth of the tree to 5 (no particular reason for selecting this)\n",
    "\n",
    "#dt_model = DecisionTreeClassifier(criterion = 'entropy' , max_depth = 5, random_state = 100)\n",
    "                                  \n",
    "dt_model = DecisionTreeClassifier(criterion = 'entropy' )"
   ]
  },
  {
   "cell_type": "code",
   "execution_count": 48,
   "metadata": {},
   "outputs": [
    {
     "data": {
      "text/plain": [
       "DecisionTreeClassifier(class_weight=None, criterion='entropy', max_depth=None,\n",
       "            max_features=None, max_leaf_nodes=None,\n",
       "            min_impurity_decrease=0.0, min_impurity_split=None,\n",
       "            min_samples_leaf=1, min_samples_split=2,\n",
       "            min_weight_fraction_leaf=0.0, presort=False, random_state=None,\n",
       "            splitter='best')"
      ]
     },
     "execution_count": 48,
     "metadata": {},
     "output_type": "execute_result"
    }
   ],
   "source": [
    "dt_model.fit(train_set, train_labels )"
   ]
  },
  {
   "cell_type": "code",
   "execution_count": 49,
   "metadata": {},
   "outputs": [
    {
     "data": {
      "text/plain": [
       "0.714"
      ]
     },
     "execution_count": 49,
     "metadata": {},
     "output_type": "execute_result"
    }
   ],
   "source": [
    "dt_model.score(test_set , test_labels)"
   ]
  },
  {
   "cell_type": "code",
   "execution_count": 34,
   "metadata": {},
   "outputs": [
    {
     "data": {
      "text/plain": [
       "1.0"
      ]
     },
     "execution_count": 34,
     "metadata": {},
     "output_type": "execute_result"
    }
   ],
   "source": [
    "dt_model.score(train_set, train_labels)"
   ]
  },
  {
   "cell_type": "markdown",
   "metadata": {
    "collapsed": true
   },
   "source": [
    "Regularising the Decision Tree"
   ]
  },
  {
   "cell_type": "code",
   "execution_count": 28,
   "metadata": {},
   "outputs": [
    {
     "data": {
      "text/plain": [
       "DecisionTreeClassifier(class_weight={0: 0.5, 1: 0.5}, criterion='entropy',\n",
       "            max_depth=5, max_features=None, max_leaf_nodes=None,\n",
       "            min_impurity_decrease=0.0, min_impurity_split=None,\n",
       "            min_samples_leaf=5, min_samples_split=2,\n",
       "            min_weight_fraction_leaf=0.0, presort=False, random_state=None,\n",
       "            splitter='best')"
      ]
     },
     "execution_count": 28,
     "metadata": {},
     "output_type": "execute_result"
    }
   ],
   "source": [
    "dt_model = DecisionTreeClassifier(criterion = 'entropy', class_weight={0:.5,1:.5}, max_depth = 5, min_samples_leaf=5 )\n",
    "dt_model.fit(train_set, train_labels)"
   ]
  },
  {
   "cell_type": "code",
   "execution_count": 29,
   "metadata": {},
   "outputs": [
    {
     "name": "stdout",
     "output_type": "stream",
     "text": [
      "0.78\n",
      "0.71\n"
     ]
    }
   ],
   "source": [
    "print(dt_model.score(train_set , train_labels))\n",
    "\n",
    "print(dt_model.score(test_set , test_labels))"
   ]
  },
  {
   "cell_type": "markdown",
   "metadata": {},
   "source": [
    "Ensemble Learning - Bagging"
   ]
  },
  {
   "cell_type": "code",
   "execution_count": 77,
   "metadata": {},
   "outputs": [],
   "source": [
    "credit_labels = credit_df.pop(\"default\")"
   ]
  },
  {
   "cell_type": "code",
   "execution_count": 51,
   "metadata": {},
   "outputs": [
    {
     "ename": "NameError",
     "evalue": "name 'credit_labels' is not defined",
     "output_type": "error",
     "traceback": [
      "\u001b[1;31m---------------------------------------------------------------------------\u001b[0m",
      "\u001b[1;31mNameError\u001b[0m                                 Traceback (most recent call last)",
      "\u001b[1;32m<ipython-input-51-b16f5a09480d>\u001b[0m in \u001b[0;36m<module>\u001b[1;34m()\u001b[0m\n\u001b[0;32m      8\u001b[0m \u001b[0mbgcl\u001b[0m \u001b[1;33m=\u001b[0m \u001b[0mBaggingClassifier\u001b[0m\u001b[1;33m(\u001b[0m\u001b[0mn_estimators\u001b[0m\u001b[1;33m=\u001b[0m\u001b[1;36m100\u001b[0m\u001b[1;33m,\u001b[0m \u001b[0mmax_samples\u001b[0m\u001b[1;33m=\u001b[0m\u001b[1;36m.50\u001b[0m \u001b[1;33m,\u001b[0m \u001b[0moob_score\u001b[0m\u001b[1;33m=\u001b[0m\u001b[1;32mTrue\u001b[0m\u001b[1;33m)\u001b[0m\u001b[1;33m\u001b[0m\u001b[0m\n\u001b[0;32m      9\u001b[0m \u001b[1;33m\u001b[0m\u001b[0m\n\u001b[1;32m---> 10\u001b[1;33m \u001b[0mbgcl\u001b[0m \u001b[1;33m=\u001b[0m \u001b[0mbgcl\u001b[0m\u001b[1;33m.\u001b[0m\u001b[0mfit\u001b[0m\u001b[1;33m(\u001b[0m\u001b[0mcredit_df\u001b[0m\u001b[1;33m,\u001b[0m \u001b[0mcredit_labels\u001b[0m\u001b[1;33m)\u001b[0m\u001b[1;33m\u001b[0m\u001b[0m\n\u001b[0m\u001b[0;32m     11\u001b[0m \u001b[0mprint\u001b[0m\u001b[1;33m(\u001b[0m\u001b[0mbgcl\u001b[0m\u001b[1;33m.\u001b[0m\u001b[0moob_score_\u001b[0m\u001b[1;33m)\u001b[0m\u001b[1;33m\u001b[0m\u001b[0m\n",
      "\u001b[1;31mNameError\u001b[0m: name 'credit_labels' is not defined"
     ]
    }
   ],
   "source": [
    "# In the following lines, we call the bagging classifer with oob_score (out of bag score) set to true which false by default\n",
    "# This makes the baggingclassifier use the 37% unused data for testing\n",
    "# Compare the performance of the BGCL with regularized dt above. \n",
    "# Though not required, you can keep separate test data (outside the bootstrap sampling) on which we test the BGCL\n",
    "# \n",
    "\n",
    "from sklearn.ensemble import BaggingClassifier\n",
    "bgcl = BaggingClassifier(n_estimators=100, max_samples=.50 , oob_score=True)\n",
    "\n",
    "bgcl = bgcl.fit(credit_df, credit_labels)\n",
    "print(bgcl.oob_score_)"
   ]
  },
  {
   "cell_type": "markdown",
   "metadata": {
    "collapsed": true
   },
   "source": [
    "Ensemble Learning - AdaBoosting"
   ]
  },
  {
   "cell_type": "code",
   "execution_count": 44,
   "metadata": {},
   "outputs": [],
   "source": [
    "from sklearn.ensemble import AdaBoostClassifier\n",
    "abcl = AdaBoostClassifier(base_estimator=dt_model, n_estimators=50)\n",
    "#abcl = AdaBoostClassifier(n_estimators=50)\n",
    "abcl = abcl.fit(train_set, train_labels)\n"
   ]
  },
  {
   "cell_type": "code",
   "execution_count": 45,
   "metadata": {},
   "outputs": [
    {
     "data": {
      "text/plain": [
       "0.7366666666666667"
      ]
     },
     "execution_count": 45,
     "metadata": {},
     "output_type": "execute_result"
    }
   ],
   "source": [
    "test_pred = abcl.predict(test_set)\n",
    "abcl.score(test_set , test_labels)"
   ]
  },
  {
   "cell_type": "markdown",
   "metadata": {},
   "source": [
    "Ensemble Learning - GradientBoost"
   ]
  },
  {
   "cell_type": "code",
   "execution_count": 46,
   "metadata": {},
   "outputs": [],
   "source": [
    "from sklearn.ensemble import GradientBoostingClassifier\n",
    "gbcl = GradientBoostingClassifier(n_estimators = 50, learning_rate = 0.09, max_depth=5)\n",
    "gbcl = gbcl.fit(train_set, train_labels)"
   ]
  },
  {
   "cell_type": "code",
   "execution_count": 47,
   "metadata": {},
   "outputs": [
    {
     "data": {
      "text/plain": [
       "0.77"
      ]
     },
     "execution_count": 47,
     "metadata": {},
     "output_type": "execute_result"
    }
   ],
   "source": [
    "test_pred = gbcl.predict(test_set)\n",
    "gbcl.score(test_set , test_labels)"
   ]
  },
  {
   "cell_type": "markdown",
   "metadata": {},
   "source": [
    "Ensemble RandomForest Classifier"
   ]
  },
  {
   "cell_type": "code",
   "execution_count": 48,
   "metadata": {},
   "outputs": [],
   "source": [
    "from sklearn.ensemble import RandomForestClassifier\n",
    "rfcl = RandomForestClassifier(n_estimators = 6)\n",
    "rfcl = rfcl.fit(train_set, train_labels)"
   ]
  },
  {
   "cell_type": "code",
   "execution_count": 49,
   "metadata": {},
   "outputs": [
    {
     "data": {
      "text/plain": [
       "0.71"
      ]
     },
     "execution_count": 49,
     "metadata": {},
     "output_type": "execute_result"
    }
   ],
   "source": [
    "test_pred = rfcl.predict(test_set)\n",
    "rfcl.score(test_set , test_labels)"
   ]
  },
  {
   "cell_type": "code",
   "execution_count": null,
   "metadata": {},
   "outputs": [],
   "source": []
  }
 ],
 "metadata": {
  "kernelspec": {
   "display_name": "Python 3",
   "language": "python",
   "name": "python3"
  },
  "language_info": {
   "codemirror_mode": {
    "name": "ipython",
    "version": 3
   },
   "file_extension": ".py",
   "mimetype": "text/x-python",
   "name": "python",
   "nbconvert_exporter": "python",
   "pygments_lexer": "ipython3",
   "version": "3.6.4"
  }
 },
 "nbformat": 4,
 "nbformat_minor": 2
}
